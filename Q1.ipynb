{
 "cells": [
  {
   "cell_type": "code",
   "execution_count": null,
   "metadata": {},
   "outputs": [],
   "source": [
    "# Q1. Print the Numpy version and configuration"
   ]
  },
  {
   "cell_type": "code",
   "execution_count": null,
   "metadata": {},
   "outputs": [],
   "source": [
    "import numpy as np\n",
    "print(\"Version :\",np.__version__)\n",
    "print(\"Configuration :\",np.show_config())"
   ]
  },
  {
   "cell_type": "code",
   "execution_count": null,
   "metadata": {},
   "outputs": [],
   "source": [
    "# Q2. Initialise a vector that contains numbers from 1 to 20 and reverse it vector (first element becomes last)"
   ]
  },
  {
   "cell_type": "code",
   "execution_count": null,
   "metadata": {},
   "outputs": [],
   "source": [
    "import numpy as np\n",
    "org_vec = np.arange(1,21)\n",
    "new_vec = org_vec[0:20]\n",
    "rev_vec = new_vec[::-1]\n",
    "print(rev_vec)"
   ]
  },
  {
   "cell_type": "code",
   "execution_count": null,
   "metadata": {},
   "outputs": [],
   "source": [
    "# Q3. Create a 3x3 array with random values and find the minimum and maximum value."
   ]
  },
  {
   "cell_type": "code",
   "execution_count": null,
   "metadata": {},
   "outputs": [],
   "source": [
    "def I_dont_use_inbuilt_functions_cos_im_cool():\n",
    "    import numpy as np\n",
    "    import random\n",
    "\n",
    "    def bubble_sort_RLV(arr):\n",
    "        n = len(arr)\n",
    "        for i in range(n):\n",
    "            for j in range(0,n-1-i):\n",
    "                if arr[j] > arr[j+1]:\n",
    "                    arr[j],arr[j+1] = arr[j+1],arr[j]\n",
    "        return arr[-1]\n",
    "    def bubble_sort_RSV(arr):\n",
    "        n = len(arr)\n",
    "        for i in range(n):\n",
    "            for j in range(0,n-1-i):\n",
    "                if arr[j] > arr[j+1]:\n",
    "                    arr[j],arr[j+1] = arr[j+1],arr[j]\n",
    "        return arr[0]\n",
    "    A = []\n",
    "    B = []\n",
    "    a = np.array([[random.random(),random.random(),random.random()],[random.random(),random.random(),random.random()],[random.random(),random.random(),random.random()]])\n",
    "    print(a)\n",
    "    for i in range(0,3):\n",
    "        largest_val = bubble_sort_RLV(a[i, : ])\n",
    "        A.append(largest_val)\n",
    "    for i in range(0,3):\n",
    "        smallest_val = bubble_sort_RSV(a[i, : ])\n",
    "        B.append(smallest_val)\n",
    "    print(bubble_sort_RLV(A))\n",
    "    print(bubble_sort_RSV(B))\n",
    "I_dont_use_inbuilt_functions_cos_im_cool()\n",
    "\n",
    "#|||||||||||||||||||||||||||||||||||||||||||||||| OR |||||||||||||||||||||||||||||||||||||||||||||||||||\n",
    "\n",
    "def minmaxrand():\n",
    "    import numpy as np\n",
    "    a = np.random.rand(3,3)\n",
    "    print(a)\n",
    "    print(np.max(a))\n",
    "    print(np.min(a))\n",
    "minmaxrand()"
   ]
  },
  {
   "cell_type": "code",
   "execution_count": null,
   "metadata": {},
   "outputs": [],
   "source": [
    "# Q4. Consider a (5,5,8) shape array, what is the index (x,y,z) of the 100th element?"
   ]
  },
  {
   "cell_type": "code",
   "execution_count": null,
   "metadata": {},
   "outputs": [],
   "source": [
    "import numpy as np\n",
    "print(np.unravel_index(99,(5,5,8)))"
   ]
  },
  {
   "cell_type": "code",
   "execution_count": null,
   "metadata": {},
   "outputs": [],
   "source": []
  },
  {
   "cell_type": "code",
   "execution_count": null,
   "metadata": {},
   "outputs": [],
   "source": [
    "import numpy as np\n",
    "array1 = np.array([1, 2, 3, 4, 5])\n",
    "array2 = np.array([3, 4, 5, 6, 7])\n",
    "common_values = np.intersect1d(array1, array2)\n",
    "print(common_values)"
   ]
  },
  {
   "cell_type": "code",
   "execution_count": null,
   "metadata": {},
   "outputs": [],
   "source": []
  },
  {
   "cell_type": "code",
   "execution_count": null,
   "metadata": {},
   "outputs": [],
   "source": [
    "import numpy as np\n",
    "a = np.random.rand(10,2)\n",
    "b = np.array([])\n",
    "for i in range(10):\n",
    "    x = a[i,0]\n",
    "    y = a[i,1]\n",
    "    radius = np.sqrt(x**2 + y**2)\n",
    "    angle = np.arctan2(y,x)\n",
    "    point = np.array([radius,angle])\n",
    "    if len(b) == 0:\n",
    "        b = point\n",
    "    else:\n",
    "        b = np.row_stack((b,point))\n",
    "print(a)\n",
    "print(\"\\n\",b)"
   ]
  },
  {
   "cell_type": "code",
   "execution_count": null,
   "metadata": {},
   "outputs": [],
   "source": [
    "import numpy as np\n",
    "arr = np.random.rand(4,4)\n",
    "print(arr)"
   ]
  },
  {
   "cell_type": "code",
   "execution_count": null,
   "metadata": {},
   "outputs": [],
   "source": [
    "import numpy as np\n",
    "x = np.array([1.66,1.443,5.90,3.89,7.9043])\n",
    "y = np.array(x,dtype = 'int32')\n",
    "print(y)"
   ]
  },
  {
   "cell_type": "code",
   "execution_count": null,
   "metadata": {},
   "outputs": [],
   "source": []
  }
 ],
 "metadata": {
  "kernelspec": {
   "display_name": "base",
   "language": "python",
   "name": "python3"
  },
  "language_info": {
   "codemirror_mode": {
    "name": "ipython",
    "version": 3
   },
   "file_extension": ".py",
   "mimetype": "text/x-python",
   "name": "python",
   "nbconvert_exporter": "python",
   "pygments_lexer": "ipython3",
   "version": "3.9.12"
  },
  "orig_nbformat": 4
 },
 "nbformat": 4,
 "nbformat_minor": 2
}
